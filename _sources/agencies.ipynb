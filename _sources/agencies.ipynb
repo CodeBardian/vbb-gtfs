{
 "cells": [
  {
   "cell_type": "markdown",
   "id": "807a18a0-cc96-4b87-8ed9-af7e5e8a1785",
   "metadata": {},
   "source": [
    "# Agencies"
   ]
  },
  {
   "cell_type": "markdown",
   "id": "10ece5b2-b77e-4f00-9980-9bd9d150dffc",
   "metadata": {},
   "source": [
    "### Downloads + Imports"
   ]
  },
  {
   "cell_type": "code",
   "execution_count": null,
   "id": "1a446109-1296-4436-b0d0-c830c554cf4d",
   "metadata": {},
   "outputs": [],
   "source": [
    "%run \"setup.ipynb\""
   ]
  },
  {
   "cell_type": "markdown",
   "id": "8e26b89d-d175-4590-bad0-9672fc524ee1",
   "metadata": {},
   "source": [
    "### Read and format data\n"
   ]
  },
  {
   "cell_type": "code",
   "execution_count": null,
   "id": "9ebe5b19-be20-4d14-8cd8-f66a5dff20d9",
   "metadata": {},
   "outputs": [],
   "source": [
    "%time agencies = pd.read_csv(zipfile.open('agency.txt'))\n",
    "agencies.tail()\n",
    "agencies.info()"
   ]
  },
  {
   "cell_type": "code",
   "execution_count": null,
   "id": "09a23436-366b-48c9-81aa-12213183f383",
   "metadata": {},
   "outputs": [],
   "source": [
    "agencies.head()"
   ]
  },
  {
   "cell_type": "code",
   "execution_count": null,
   "id": "dcb926f3-f9c2-4ac4-9474-44d4412e2045",
   "metadata": {},
   "outputs": [],
   "source": [
    "%time routes = pd.read_csv(zipfile.open('routes.txt'))\n",
    "routes.tail()\n",
    "\n",
    "routes = routes.join(agencies[['agency_id','agency_name']].set_index('agency_id'), on='agency_id')\n",
    "routes.head()"
   ]
  },
  {
   "cell_type": "markdown",
   "id": "33290956-a5ea-4045-bac1-066b9071244a",
   "metadata": {},
   "source": [
    "### Agencies per Route Type"
   ]
  },
  {
   "cell_type": "code",
   "execution_count": null,
   "id": "78812772-e69e-4cb2-9e57-d24fb64279ff",
   "metadata": {},
   "outputs": [],
   "source": [
    "routes['agency_name'].value_counts().head()"
   ]
  },
  {
   "cell_type": "code",
   "execution_count": null,
   "id": "789fbe21-0a19-4729-bc8c-74c6d1d307e0",
   "metadata": {},
   "outputs": [],
   "source": [
    "rename = {2: \"Intercity Rail Service\", 100: \"Railway Service\", 109: \"Suburban Railway\", 400: \"Urban Railway Service\", 700: \"Bus Service\", 900: \"Tram Service\", 1000: \"Water Transport Service\"}\n",
    "routes['route_type'].replace(rename, inplace=True)\n",
    "routes.head()"
   ]
  },
  {
   "cell_type": "code",
   "execution_count": null,
   "id": "114d438f-5860-4dee-97e1-1521e77fb54d",
   "metadata": {
    "tags": []
   },
   "outputs": [],
   "source": [
    "routes_sorted = routes.groupby(['route_type', 'agency_name']).size().reset_index(name=\"count\")\n",
    "routes_sorted['max'] = routes_sorted.groupby('agency_name')['count'].transform('sum')\n",
    "routes_sorted.loc[routes_sorted['max'] < 40, 'agency_name'] = 'Other'\n",
    "routes_sorted = routes_sorted.sort_values([\"max\",'agency_name',\"count\"], ascending=False).drop('max', axis=1)\n",
    "t = routes_sorted.groupby(['route_type', 'agency_name']).aggregate({'count': 'sum'}).reset_index()\n",
    "t = t.assign(\n",
    "    ac = lambda x: x.groupby(['route_type'])['count'].transform(np.sum),\n",
    "    share = lambda x: x['count'].div(x['ac'])\n",
    ")\n",
    "t = t.pivot(index='route_type', columns='agency_name', values='share')\n",
    "t.insert(len(t.columns)-1, 'Other', t.pop(\"Other\"))\n",
    "t.fillna(0.0, inplace=True)"
   ]
  },
  {
   "cell_type": "code",
   "execution_count": null,
   "id": "b3c2143d-abea-4ce6-9323-396d58e61015",
   "metadata": {},
   "outputs": [],
   "source": [
    "fig, ax = plt.subplots(figsize=(15,6))\n",
    "cmap = sns.light_palette(sns_c[0])\n",
    "fmt = lambda y, _: f'{y :0.0%}'\n",
    "t.pipe((sns.heatmap, 'data'), \n",
    "        vmin=0.0,\n",
    "        vmax=1.0,\n",
    "        cmap=\"YlGnBu\",\n",
    "        linewidths=0.1, \n",
    "        linecolor='black',\n",
    "        annot=True, \n",
    "        fmt='0.2%',\n",
    "        cbar_kws={'format': mtick.FuncFormatter(fmt)},\n",
    "        ax=ax\n",
    "    )\n",
    "ax.set(title='Agency Share per Route Type');"
   ]
  }
 ],
 "metadata": {
  "kernelspec": {
   "display_name": "data-science",
   "language": "python",
   "name": "data-science"
  },
  "language_info": {
   "codemirror_mode": {
    "name": "ipython",
    "version": 3
   },
   "file_extension": ".py",
   "mimetype": "text/x-python",
   "name": "python",
   "nbconvert_exporter": "python",
   "pygments_lexer": "ipython3",
   "version": "3.9.5"
  }
 },
 "nbformat": 4,
 "nbformat_minor": 5
}
