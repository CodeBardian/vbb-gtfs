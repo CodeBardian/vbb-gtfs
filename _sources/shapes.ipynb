{
 "cells": [
  {
   "cell_type": "markdown",
   "id": "157cf549",
   "metadata": {},
   "source": [
    "# Shapes"
   ]
  },
  {
   "cell_type": "markdown",
   "id": "e014ed61",
   "metadata": {},
   "source": [
    "### Downloads + Imports"
   ]
  },
  {
   "cell_type": "code",
   "execution_count": null,
   "id": "c619c24d-a5b8-4b21-9f0a-d38938e15ad9",
   "metadata": {},
   "outputs": [],
   "source": [
    "%run \"setup.ipynb\""
   ]
  },
  {
   "cell_type": "markdown",
   "id": "3d2ceb07-4864-4e7b-a701-b4d392a5f320",
   "metadata": {},
   "source": [
    "### Read and format data"
   ]
  },
  {
   "cell_type": "code",
   "execution_count": null,
   "id": "374c9704-c175-4071-9c55-d2888ba6ce98",
   "metadata": {},
   "outputs": [],
   "source": [
    "%time shapes = pd.read_csv(zipfile.open('shapes.txt'))\n",
    "shapes.tail()\n",
    "shapes.info()"
   ]
  },
  {
   "cell_type": "code",
   "execution_count": null,
   "id": "e7962751-d90d-4b51-8657-1103fd48db5f",
   "metadata": {},
   "outputs": [],
   "source": [
    "shapes.head()"
   ]
  },
  {
   "cell_type": "markdown",
   "id": "04920a1b-f90e-4e26-867a-0922bf8d2dde",
   "metadata": {},
   "source": [
    "### Routes of all transport lines"
   ]
  },
  {
   "cell_type": "code",
   "execution_count": null,
   "id": "a4a5de92-fdcd-4af2-86ec-5806a79510bd",
   "metadata": {},
   "outputs": [],
   "source": [
    "from shapely.geometry import Point, LineString\n",
    "import contextily as ctx"
   ]
  },
  {
   "cell_type": "code",
   "execution_count": null,
   "id": "f0479643-1aa9-46f2-89ef-1b1c5dba83d4",
   "metadata": {},
   "outputs": [],
   "source": [
    "%%time\n",
    "shapes_gdf = gpd.GeoDataFrame(shapes, geometry = gpd.points_from_xy(shapes['shape_pt_lon'], shapes['shape_pt_lat']))\n",
    "shapes_gdf = shapes_gdf.groupby(['shape_id'])['geometry'].apply(lambda x: LineString(x.tolist()))\n",
    "shapes_gdf = gpd.GeoDataFrame(shapes_gdf, geometry='geometry')\n",
    "shapes_gdf.head()"
   ]
  },
  {
   "cell_type": "code",
   "execution_count": null,
   "id": "c97fd345-dd60-4f0f-a455-7bb0806d93ce",
   "metadata": {},
   "outputs": [],
   "source": [
    "shapes_gdf.info()"
   ]
  },
  {
   "cell_type": "code",
   "execution_count": null,
   "id": "d10cb0b5-968d-4398-bcab-7a62685c1030",
   "metadata": {},
   "outputs": [],
   "source": [
    "shapes_gdf.crs = 4326\n",
    "shapes_gdf = shapes_gdf.to_crs(epsg=3857)"
   ]
  },
  {
   "cell_type": "code",
   "execution_count": null,
   "id": "e8941645-ce94-440b-98e5-a84be5493c40",
   "metadata": {},
   "outputs": [],
   "source": [
    "%%time\n",
    "axes = shapes_gdf.plot(linewidth=0.2)\n",
    "ctx.add_basemap(axes, zoom=12, source=ctx.providers.OpenStreetMap.Mapnik)\n",
    "axes.set_axis_off()"
   ]
  }
 ],
 "metadata": {
  "kernelspec": {
   "display_name": "data-science",
   "language": "python",
   "name": "data-science"
  },
  "language_info": {
   "codemirror_mode": {
    "name": "ipython",
    "version": 3
   },
   "file_extension": ".py",
   "mimetype": "text/x-python",
   "name": "python",
   "nbconvert_exporter": "python",
   "pygments_lexer": "ipython3",
   "version": "3.9.5"
  }
 },
 "nbformat": 4,
 "nbformat_minor": 5
}
