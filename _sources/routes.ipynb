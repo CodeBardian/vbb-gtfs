{
 "cells": [
  {
   "cell_type": "markdown",
   "id": "7f8e67a6-2468-4a19-bf4a-09411afe3a34",
   "metadata": {},
   "source": [
    "# Routes"
   ]
  },
  {
   "cell_type": "markdown",
   "id": "33d65048-d4ff-4266-b6ff-b7bc50346165",
   "metadata": {},
   "source": [
    "### Downloads + Imports"
   ]
  },
  {
   "cell_type": "code",
   "execution_count": null,
   "id": "0144cd26-6c1e-4011-b330-3e2459a259fa",
   "metadata": {},
   "outputs": [],
   "source": [
    "# https://www.vbb.de/media/download/2029\n",
    "from io import BytesIO\n",
    "from zipfile import ZipFile\n",
    "from urllib.request import urlopen\n",
    "\n",
    "resp = urlopen(\"https://www.vbb.de/media/download/2029\")\n",
    "%time zipfile = ZipFile(BytesIO(resp.read()))\n",
    "zipfile.namelist()"
   ]
  },
  {
   "cell_type": "code",
   "execution_count": null,
   "id": "adcbe524-ec38-4f30-855f-b447185513ee",
   "metadata": {},
   "outputs": [],
   "source": [
    "#import sys\n",
    "#!{sys.executable} -m pip install geopandas\n",
    "import pandas as pd\n",
    "import numpy as np\n",
    "import mplleaflet\n",
    "import folium\n",
    "import holoviews as hv\n",
    "import holoviews.operation.datashader as hd\n",
    "hd.shade.cmap=[\"lightblue\", \"darkblue\"]\n",
    "hv.extension(\"bokeh\", \"matplotlib\") \n",
    "import datashader as ds\n",
    "import datashader.transfer_functions as tf"
   ]
  },
  {
   "cell_type": "markdown",
   "id": "531713b1-2e00-446c-8d8b-73e534551ff4",
   "metadata": {},
   "source": [
    "### Setup Plotting\n"
   ]
  },
  {
   "cell_type": "code",
   "execution_count": null,
   "id": "ec1ca2f0-36cb-44da-bf27-387ad1d2bd2d",
   "metadata": {},
   "outputs": [],
   "source": [
    "import matplotlib.pyplot as plt\n",
    "import matplotlib.ticker as mtick\n",
    "import seaborn as sns\n",
    "sns.set_style(\n",
    "    style='darkgrid', \n",
    "    rc={'axes.facecolor': '.9', 'grid.color': '.8'}\n",
    ")\n",
    "sns.set_palette(palette='deep')\n",
    "sns_c = sns.color_palette(palette='deep')\n",
    "%matplotlib inline\n",
    "from pandas.plotting import register_matplotlib_converters\n",
    "register_matplotlib_converters()\n",
    "\n",
    "plt.rcParams['figure.figsize'] = [10, 6]\n",
    "plt.rcParams['figure.dpi'] = 100"
   ]
  },
  {
   "cell_type": "markdown",
   "id": "a610a3f0-e6d2-4385-8f95-567b745b96fd",
   "metadata": {},
   "source": [
    "#### Read and format data\n"
   ]
  },
  {
   "cell_type": "code",
   "execution_count": null,
   "id": "f24d2aae-211f-45ea-b321-4fa40fc7fc20",
   "metadata": {},
   "outputs": [],
   "source": [
    "%time routes = pd.read_csv(zipfile.open('routes.txt'))\n",
    "routes.tail()\n",
    "routes.apply(lambda x: x.unique().size, axis=0)"
   ]
  },
  {
   "cell_type": "code",
   "execution_count": null,
   "id": "7a965b69-f3e1-4594-b3d2-65b2e270b74d",
   "metadata": {},
   "outputs": [],
   "source": [
    "routes.head()"
   ]
  },
  {
   "cell_type": "markdown",
   "id": "d7ec5648-18c2-4581-8fe8-8167077cd686",
   "metadata": {},
   "source": [
    "#### Routes per route type"
   ]
  },
  {
   "cell_type": "code",
   "execution_count": null,
   "id": "621748fa-90fd-4631-8470-9c9d7a726a80",
   "metadata": {},
   "outputs": [],
   "source": [
    "fig, ax = plt.subplots()\n",
    "rename = {2: \"Intercity Rail Service\", 100: \"Railway Service\", 109: \"Suburban Railway\", 400: \"Urban Railway Service\", 700: \"Bus Service\", 900: \"Tram Service\", 1000: \"Water Transport Service\"}\n",
    "routes['route_type'].replace(rename, inplace=True)\n",
    "routes \\\n",
    "    .groupby(['route_type']) \\\n",
    "    .agg(n=('route_id', 'count')) \\\n",
    "    .reset_index() \\\n",
    "    .sort_values('n', ascending=False) \\\n",
    "    .assign(share= lambda x: x['n'] / x['n'].sum()) \\\n",
    "    .pipe((sns.barplot, 'data'), \n",
    "        x='share', \n",
    "        y='route_type',\n",
    "        color=sns_c[2],\n",
    "        edgecolor=sns_c[2],\n",
    "        ax=ax\n",
    "    )\n",
    "fmt = lambda y, _: f'{y :0.0%}'\n",
    "ax.xaxis.set_major_formatter(mtick.FuncFormatter(fmt))\n",
    "ax.set(\n",
    "    title='Share of Routes per Route Type', \n",
    "    xlabel='share of routes', \n",
    "    ylabel='route type'\n",
    ");"
   ]
  }
 ],
 "metadata": {
  "kernelspec": {
   "display_name": "data-science",
   "language": "python",
   "name": "data-science"
  },
  "language_info": {
   "codemirror_mode": {
    "name": "ipython",
    "version": 3
   },
   "file_extension": ".py",
   "mimetype": "text/x-python",
   "name": "python",
   "nbconvert_exporter": "python",
   "pygments_lexer": "ipython3",
   "version": "3.9.5"
  }
 },
 "nbformat": 4,
 "nbformat_minor": 5
}
