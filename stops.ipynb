{
 "cells": [
  {
   "cell_type": "markdown",
   "id": "15898a68-5efa-4077-9ec9-fa7f067d6e3c",
   "metadata": {},
   "source": [
    "# Stops"
   ]
  },
  {
   "cell_type": "markdown",
   "id": "ba54101a-10e3-4367-b7eb-3eb5a53672e4",
   "metadata": {},
   "source": [
    "### Downloads + Imports"
   ]
  },
  {
   "cell_type": "code",
   "execution_count": null,
   "id": "cb604574-15b2-4017-8884-f301079c176c",
   "metadata": {},
   "outputs": [],
   "source": [
    "%run \"setup.ipynb\""
   ]
  },
  {
   "cell_type": "markdown",
   "id": "993fa20d-d53f-4ed9-8720-4824623e75dd",
   "metadata": {},
   "source": [
    "### Read and format data\n"
   ]
  },
  {
   "cell_type": "code",
   "execution_count": null,
   "id": "c4f47074-3c17-4e1d-ab7f-e6ebf00eb6e7",
   "metadata": {},
   "outputs": [],
   "source": [
    "%time stops_df = pd.read_csv(zipfile.open('stops.txt'))\n",
    "stops_df.tail()\n",
    "stops_df.info()"
   ]
  },
  {
   "cell_type": "code",
   "execution_count": null,
   "id": "88c83f47-8154-44b2-a7eb-395d2fdb569b",
   "metadata": {},
   "outputs": [],
   "source": [
    "stops_df.fillna('', inplace=True)\n",
    "stops_df = stops_df.drop(['stop_code', 'stop_desc'], axis=1)\n",
    "stops_df.loc[stops_df[\"wheelchair_boarding\"] == '','wheelchair_boarding'] = 0\n",
    "stops_df_multiple_stops = stops_df.copy()\n",
    "stops_df.drop_duplicates(subset=['stop_name', 'location_type', 'wheelchair_boarding', 'platform_code'],keep='first', inplace = True)\n",
    "stops_df.head()"
   ]
  },
  {
   "cell_type": "code",
   "execution_count": null,
   "id": "9d595a4f-2644-4af1-a7e3-4a29950e818b",
   "metadata": {},
   "outputs": [],
   "source": [
    "stops_df.apply(lambda x: x.unique().size, axis=0)"
   ]
  },
  {
   "cell_type": "code",
   "execution_count": null,
   "id": "d95a0d51-9962-48f9-9fa7-92f36ff91e5f",
   "metadata": {},
   "outputs": [],
   "source": [
    "# visualization with folium: takes way longer + more memory consumption than bokeh\n",
    "\n",
    "#f = folium.Figure(width=800, height=600)\n",
    "#m = folium.Map(location=[45.5236, -122.6750], prefer_canvas=True).add_to(f)\n",
    "#for lat, lon in zip(stops_df['stop_lat'], stops_df['stop_lon']):\n",
    "#    folium.CircleMarker(\n",
    "#        location=[lat, lon],\n",
    "#        radius=1,\n",
    "#        color=\"#3186cc\",\n",
    "#        fill=True,\n",
    "#        fill_color=\"#3186cc\",\n",
    "#    ).add_to(m)\n",
    "#m"
   ]
  },
  {
   "cell_type": "code",
   "execution_count": null,
   "id": "11ca3dae-d7cd-464e-99ca-5f435f9edab0",
   "metadata": {},
   "outputs": [],
   "source": [
    "def merc_from_arrays(lats, lons):\n",
    "    r_major = 6378137.000\n",
    "    x = r_major * np.radians(lons)\n",
    "    scale = x/lons\n",
    "    y = 180.0/np.pi * np.log(np.tan(np.pi/4.0 + lats * (np.pi/180.0)/2.0)) * scale\n",
    "    return (x, y)"
   ]
  },
  {
   "cell_type": "code",
   "execution_count": null,
   "id": "aa671d3e-a965-4325-bb64-4b7105d96963",
   "metadata": {},
   "outputs": [],
   "source": [
    "p = figure(plot_width=800, plot_height=700,title=\"Public Transport Stops of VBB\",tools=\"pan,wheel_zoom\",\n",
    "           x_range=(1215654.4978, 1721973.3732), y_range=(6533225.6816, 7296372.9720),\n",
    "           x_axis_type=\"mercator\", y_axis_type=\"mercator\",\n",
    "           tooltips=[(\"Name\", \"@stop_name\"), (\"platform\", \"@platform_code\"), (\"(Lat, Lon)\", \"(@stop_lat, @stop_lon)\")])\n",
    "p.add_tile(get_provider(OSM))\n",
    "stops_df['merc_x'], stops_df['merc_y'] = merc_from_arrays(stops_df['stop_lat'], stops_df['stop_lon'])\n",
    "p.circle(x='merc_x', y='merc_y', source=stops_df)\n",
    "show(p)"
   ]
  },
  {
   "cell_type": "code",
   "execution_count": null,
   "id": "e7fd397a-b43f-43cb-bb3d-fbf4494bc009",
   "metadata": {},
   "outputs": [],
   "source": [
    "hv.output(backend=\"bokeh\")\n",
    "tiles = hv.element.tiles.OSM().opts(alpha=0.5)\n",
    "stops = hv.Points(stops_df, ['merc_x', 'merc_y'], label='Public Transport Stops')\n",
    "stops_wa = hv.Points(stops_df.loc[stops_df['wheelchair_boarding'] == 1], ['merc_x', 'merc_y'], label='Wheelchair accessible Stops')\n",
    "tiles * hd.datashade(stops) + tiles * hd.datashade(stops_wa)"
   ]
  },
  {
   "cell_type": "markdown",
   "id": "08d86e86-9097-4166-b1b5-6eebbde7a2ee",
   "metadata": {},
   "source": [
    "### Stations with most stops"
   ]
  },
  {
   "cell_type": "code",
   "execution_count": null,
   "id": "41d5ec78-057c-4405-9ac0-b0b1afaf79c5",
   "metadata": {},
   "outputs": [],
   "source": [
    "stops_df_multiple_stops['stop_name'].value_counts().head(10)"
   ]
  },
  {
   "cell_type": "code",
   "execution_count": null,
   "id": "cea36923-aef8-4597-8056-0d2ff50c577e",
   "metadata": {},
   "outputs": [],
   "source": [
    "num_stops = stops_df_multiple_stops.groupby(['stop_name']).agg(num_stops=('stop_id', 'count')).query('num_stops > 1').sort_values('num_stops', ascending=False)\n",
    "num_stops.describe()"
   ]
  },
  {
   "cell_type": "code",
   "execution_count": null,
   "id": "42068da7-ef59-4d71-89e7-a618b5e7a79c",
   "metadata": {},
   "outputs": [],
   "source": [
    "num_stops_mean = num_stops['num_stops'].mean()\n",
    "num_stops_median = num_stops['num_stops'].median()\n",
    "\n",
    "fig, ax = plt.subplots()\n",
    "sns.histplot(x='num_stops', data=num_stops, color=sns_c[3], ax=ax, discrete=True)\n",
    "ax.axvline(x=num_stops_mean, color=sns_c[1], linestyle='--', label=f'mean = {num_stops_mean: ,.2f}')\n",
    "ax.axvline(x=num_stops_median, color=sns_c[4], linestyle='--',label=f'median = {num_stops_median}')\n",
    "ax.legend(loc='upper right')\n",
    "ax.set(title='Number of Stops per Location', xlabel='number of stops', xlim=(0, None))"
   ]
  },
  {
   "cell_type": "markdown",
   "id": "5fad1091-0cee-4d8f-bea4-583b420b0168",
   "metadata": {},
   "source": [
    "### Stops per District"
   ]
  },
  {
   "cell_type": "code",
   "execution_count": null,
   "id": "07a2e398-7863-45ed-b51a-0e4bcacf51a0",
   "metadata": {},
   "outputs": [],
   "source": [
    "from io import BytesIO\n",
    "from zipfile import ZipFile\n",
    "from urllib.request import urlopen, Request, urlretrieve\n",
    "from collections import OrderedDict\n",
    "\n",
    "url = \"https://www.suche-postleitzahl.org/download_files/public/plz-gebiete.shp.zip\"\n",
    "headers = {\n",
    "    'User-Agent': 'Mozilla/5.0 (Windows NT 10.0; Win64; x64; rv:77.0) Gecko/20100101 Firefox/77.0'\n",
    "}\n",
    "\n",
    "request  = Request(url, None, headers)\n",
    "resp = urlopen(request)\n",
    "data = resp.read()"
   ]
  },
  {
   "cell_type": "code",
   "execution_count": null,
   "id": "a0d9c304-436b-45e6-a9ea-2527690f2ef9",
   "metadata": {},
   "outputs": [],
   "source": [
    "with ZipMemoryFile(data) as zip_memory_file:\n",
    "    with zip_memory_file.open('plz-gebiete.shp') as collection:\n",
    "        # collection.crs is {'init': dst_epsg} -> deprecated format\n",
    "        plz_shapes = gpd.GeoDataFrame.from_features(collection, crs=collection.crs['init'])"
   ]
  },
  {
   "cell_type": "code",
   "execution_count": null,
   "id": "6324de48-5c56-4579-b235-571f7af61206",
   "metadata": {},
   "outputs": [],
   "source": [
    "# plz_shapes = gpd.read_file('plz_gebiete.zip')\n",
    "plz_shapes.head()"
   ]
  },
  {
   "cell_type": "code",
   "execution_count": null,
   "id": "8462bdf1-288d-4461-a2cb-a85736db65f8",
   "metadata": {},
   "outputs": [],
   "source": [
    "plz_population = pd.read_csv('plz_einwohner.csv', dtype={'plz': str, 'einwohner': int})\n",
    "plz_population.head()"
   ]
  },
  {
   "cell_type": "code",
   "execution_count": null,
   "id": "99920273-9503-4ce6-b517-329d1375d907",
   "metadata": {},
   "outputs": [],
   "source": [
    "plz_df = pd.merge(left=plz_shapes[['plz', 'geometry']], right=plz_population, on='plz', how='left')"
   ]
  },
  {
   "cell_type": "code",
   "execution_count": null,
   "id": "7d8b49e2-52de-40ee-a453-1292588c062f",
   "metadata": {},
   "outputs": [],
   "source": [
    "plz_df.nlargest(5, 'einwohner')"
   ]
  },
  {
   "cell_type": "code",
   "execution_count": null,
   "id": "150ab201-f6ad-4267-81c8-ffbd2e7dd49f",
   "metadata": {},
   "outputs": [],
   "source": [
    "stops_gdf = gpd.GeoDataFrame(stops_df, geometry=gpd.points_from_xy(stops_df['stop_lon'], stops_df['stop_lat']))\n",
    "stops_gdf.set_crs(epsg=4326, inplace=True)\n",
    "stops_gdf.head()"
   ]
  },
  {
   "cell_type": "code",
   "execution_count": null,
   "id": "c5058ec5-9ad0-4aff-b926-cbb20b3fb636",
   "metadata": {},
   "outputs": [],
   "source": [
    "join_df = gpd.sjoin(stops_gdf, plz_df, how='inner', op=\"within\")\n",
    "join_df.drop(['index_right', 'einwohner'], axis=1, inplace=True)\n",
    "join_df = join_df[join_df['parent_station'] == \"\"]\n",
    "join_df.head()"
   ]
  },
  {
   "cell_type": "code",
   "execution_count": null,
   "id": "fd5144e5-347a-4155-85cf-01c5ad96c1aa",
   "metadata": {},
   "outputs": [],
   "source": [
    "count_df = join_df.groupby('plz', dropna=False).size().reset_index(name='stop_count')"
   ]
  },
  {
   "cell_type": "code",
   "execution_count": null,
   "id": "2f482b5e-379e-444f-9b94-b293dece3d6d",
   "metadata": {},
   "outputs": [],
   "source": [
    "plz_df = pd.merge(left=plz_df[['plz', 'geometry', 'einwohner']], right=count_df, on='plz', how='left')"
   ]
  },
  {
   "cell_type": "code",
   "execution_count": null,
   "id": "5d38f5fe-2167-470f-b928-ca49d46f5a31",
   "metadata": {},
   "outputs": [],
   "source": [
    "plz_df['stops_per_inhabitant'] = plz_df.apply(lambda row: np.nan if row['einwohner'] == 0 else row['stop_count'] / row['einwohner'], axis=1)\n",
    "plz_df.sort_values('stop_count', ascending=False)"
   ]
  },
  {
   "cell_type": "code",
   "execution_count": null,
   "id": "284e729e-208a-4f73-8180-7679ea44494e",
   "metadata": {},
   "outputs": [],
   "source": [
    "fig, ax = plt.subplots(figsize=(5, 5))\n",
    "plz_df.plot(\n",
    "    ax=ax,\n",
    "    column='einwohner',  \n",
    "    categorical=False, \n",
    "    cmap='plasma_r',\n",
    "    edgecolor='black',\n",
    "    linewidth=0.05,\n",
    "    legend=True\n",
    ")\n",
    "ax.set(\n",
    "    title='Population per PLZ',\n",
    "    aspect=1.3\n",
    ");"
   ]
  },
  {
   "cell_type": "code",
   "execution_count": null,
   "id": "6ea6cf6d-ad32-423f-8383-28b6083ff636",
   "metadata": {},
   "outputs": [],
   "source": [
    "fig, ax = plt.subplots(figsize=(5, 5))\n",
    "plz_df.plot(\n",
    "    ax=ax,\n",
    "    column='stop_count',  \n",
    "    categorical=False, \n",
    "    cmap='plasma_r',\n",
    "    edgecolor='black',\n",
    "    linewidth=0.1,\n",
    "    legend=True\n",
    ")\n",
    "ax.set(\n",
    "    title='Stops per PLZ',\n",
    "    aspect=1.3\n",
    ");"
   ]
  },
  {
   "cell_type": "code",
   "execution_count": null,
   "id": "aabb77fd-04af-44de-ba7b-4b181c7d2e1b",
   "metadata": {},
   "outputs": [],
   "source": [
    "fig, ax = plt.subplots(figsize=(5, 5))\n",
    "plz_df.plot(\n",
    "    ax=ax,\n",
    "    column='stops_per_inhabitant',  \n",
    "    categorical=False, \n",
    "    cmap='plasma_r',\n",
    "    edgecolor='black',\n",
    "    linewidth=0.1,\n",
    ")\n",
    "ax.set(\n",
    "    title='Stops per Inhabitant per PLZ',\n",
    "    aspect=1.3\n",
    ");"
   ]
  }
 ],
 "metadata": {
  "kernelspec": {
   "display_name": "data-science",
   "language": "python",
   "name": "data-science"
  },
  "language_info": {
   "codemirror_mode": {
    "name": "ipython",
    "version": 3
   },
   "file_extension": ".py",
   "mimetype": "text/x-python",
   "name": "python",
   "nbconvert_exporter": "python",
   "pygments_lexer": "ipython3",
   "version": "3.9.5"
  }
 },
 "nbformat": 4,
 "nbformat_minor": 5
}
