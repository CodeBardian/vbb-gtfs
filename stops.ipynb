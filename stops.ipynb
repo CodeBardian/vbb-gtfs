{
 "cells": [
  {
   "cell_type": "markdown",
   "id": "15898a68-5efa-4077-9ec9-fa7f067d6e3c",
   "metadata": {},
   "source": [
    "# Stops"
   ]
  },
  {
   "cell_type": "markdown",
   "id": "ba54101a-10e3-4367-b7eb-3eb5a53672e4",
   "metadata": {},
   "source": [
    "### Downloads + Imports"
   ]
  },
  {
   "cell_type": "code",
   "execution_count": null,
   "id": "07c0a9d8-a2c7-4e2c-a862-92f8df5d9e8e",
   "metadata": {},
   "outputs": [],
   "source": [
    "# https://www.vbb.de/media/download/2029\n",
    "from io import BytesIO\n",
    "from zipfile import ZipFile\n",
    "from urllib.request import urlopen\n",
    "\n",
    "resp = urlopen(\"https://www.vbb.de/media/download/2029\")\n",
    "%time zipfile = ZipFile(BytesIO(resp.read()))\n",
    "zipfile.namelist()"
   ]
  },
  {
   "cell_type": "code",
   "execution_count": null,
   "id": "9ceea770-1661-45e0-a5a8-d93b849095ad",
   "metadata": {},
   "outputs": [],
   "source": [
    "#import sys\n",
    "#!{sys.executable} -m pip install datashader\n",
    "import pandas as pd\n",
    "import numpy as np\n",
    "import mplleaflet\n",
    "import folium\n",
    "import holoviews as hv\n",
    "import holoviews.operation.datashader as hd\n",
    "hd.shade.cmap=[\"lightblue\", \"darkblue\"]\n",
    "hv.extension(\"bokeh\", \"matplotlib\") \n",
    "import datashader as ds\n",
    "import datashader.transfer_functions as tf"
   ]
  },
  {
   "cell_type": "markdown",
   "id": "0dafa379-fc73-441b-b0e8-49ce03fabdd1",
   "metadata": {},
   "source": [
    "### Setup Plotting\n"
   ]
  },
  {
   "cell_type": "code",
   "execution_count": null,
   "id": "c154e7d0-4a73-4566-bfb6-dd50af49779a",
   "metadata": {},
   "outputs": [],
   "source": [
    "import matplotlib.pyplot as plt\n",
    "import matplotlib.ticker as mtick\n",
    "import seaborn as sns\n",
    "sns.set_style(\n",
    "    style='darkgrid', \n",
    "    rc={'axes.facecolor': '.9', 'grid.color': '.8'}\n",
    ")\n",
    "sns.set_palette(palette='deep')\n",
    "sns_c = sns.color_palette(palette='deep')\n",
    "%matplotlib inline\n",
    "from pandas.plotting import register_matplotlib_converters\n",
    "register_matplotlib_converters()\n",
    "\n",
    "plt.rcParams['figure.figsize'] = [10, 6]\n",
    "plt.rcParams['figure.dpi'] = 100"
   ]
  },
  {
   "cell_type": "code",
   "execution_count": null,
   "id": "5a5a46c3-70be-4c81-a7c2-e8c4fcb65635",
   "metadata": {},
   "outputs": [],
   "source": [
    "from bokeh.plotting import figure, output_notebook, show, reset_output\n",
    "from bokeh.tile_providers import OSM, get_provider\n",
    "\n",
    "output_notebook()"
   ]
  },
  {
   "cell_type": "markdown",
   "id": "993fa20d-d53f-4ed9-8720-4824623e75dd",
   "metadata": {},
   "source": [
    "#### Read and format data\n"
   ]
  },
  {
   "cell_type": "code",
   "execution_count": null,
   "id": "c4f47074-3c17-4e1d-ab7f-e6ebf00eb6e7",
   "metadata": {},
   "outputs": [],
   "source": [
    "%time stops_df = pd.read_csv(zipfile.open('stops.txt'))\n",
    "stops_df.tail()\n",
    "stops_df.info()"
   ]
  },
  {
   "cell_type": "code",
   "execution_count": null,
   "id": "88c83f47-8154-44b2-a7eb-395d2fdb569b",
   "metadata": {},
   "outputs": [],
   "source": [
    "stops_df.fillna('', inplace=True)\n",
    "stops_df = stops_df.drop(['stop_code', 'stop_desc'], axis=1)\n",
    "stops_df.loc[stops_df[\"wheelchair_boarding\"] == '','wheelchair_boarding'] = 0\n",
    "stops_df_multiple_stops = stops_df.copy()\n",
    "stops_df.drop_duplicates(subset=['stop_name', 'location_type', 'wheelchair_boarding', 'platform_code'],keep='first', inplace = True)\n",
    "stops_df.head()"
   ]
  },
  {
   "cell_type": "code",
   "execution_count": null,
   "id": "9d595a4f-2644-4af1-a7e3-4a29950e818b",
   "metadata": {},
   "outputs": [],
   "source": [
    "stops_df.apply(lambda x: x.unique().size, axis=0)"
   ]
  },
  {
   "cell_type": "code",
   "execution_count": null,
   "id": "d95a0d51-9962-48f9-9fa7-92f36ff91e5f",
   "metadata": {},
   "outputs": [],
   "source": [
    "# visualization with folium: takes way longer + more memory consumption than bokeh\n",
    "\n",
    "#f = folium.Figure(width=800, height=600)\n",
    "#m = folium.Map(location=[45.5236, -122.6750], prefer_canvas=True).add_to(f)\n",
    "#for lat, lon in zip(stops_df['stop_lat'], stops_df['stop_lon']):\n",
    "#    folium.CircleMarker(\n",
    "#        location=[lat, lon],\n",
    "#        radius=1,\n",
    "#        color=\"#3186cc\",\n",
    "#        fill=True,\n",
    "#        fill_color=\"#3186cc\",\n",
    "#    ).add_to(m)\n",
    "#m"
   ]
  },
  {
   "cell_type": "code",
   "execution_count": null,
   "id": "11ca3dae-d7cd-464e-99ca-5f435f9edab0",
   "metadata": {},
   "outputs": [],
   "source": [
    "def merc_from_arrays(lats, lons):\n",
    "    r_major = 6378137.000\n",
    "    x = r_major * np.radians(lons)\n",
    "    scale = x/lons\n",
    "    y = 180.0/np.pi * np.log(np.tan(np.pi/4.0 + lats * (np.pi/180.0)/2.0)) * scale\n",
    "    return (x, y)"
   ]
  },
  {
   "cell_type": "code",
   "execution_count": null,
   "id": "aa671d3e-a965-4325-bb64-4b7105d96963",
   "metadata": {},
   "outputs": [],
   "source": [
    "p = figure(plot_width=800, plot_height=700,title=\"Public Transport Stops of VBB\",tools=\"pan,wheel_zoom\",\n",
    "           x_range=(1215654.4978, 1721973.3732), y_range=(6533225.6816, 7296372.9720),\n",
    "           x_axis_type=\"mercator\", y_axis_type=\"mercator\",\n",
    "           tooltips=[(\"Name\", \"@stop_name\"), (\"platform\", \"@platform_code\"), (\"(Lat, Lon)\", \"(@stop_lat, @stop_lon)\")])\n",
    "p.add_tile(get_provider(OSM))\n",
    "stops_df['merc_x'], stops_df['merc_y'] = merc_from_arrays(stops_df['stop_lat'], stops_df['stop_lon'])\n",
    "p.circle(x='merc_x', y='merc_y', source=stops_df)\n",
    "show(p)"
   ]
  },
  {
   "cell_type": "code",
   "execution_count": null,
   "id": "e7fd397a-b43f-43cb-bb3d-fbf4494bc009",
   "metadata": {},
   "outputs": [],
   "source": [
    "hv.output(backend=\"bokeh\")\n",
    "tiles = hv.element.tiles.OSM().opts(alpha=0.5)\n",
    "stops = hv.Points(stops_df, ['merc_x', 'merc_y'], label='Public Transport Stops')\n",
    "stops_wa = hv.Points(stops_df.loc[stops_df['wheelchair_boarding'] == 1], ['merc_x', 'merc_y'], label='Wheelchair accessible Stops')\n",
    "tiles * hd.datashade(stops) + tiles * hd.datashade(stops_wa)"
   ]
  },
  {
   "cell_type": "markdown",
   "id": "08d86e86-9097-4166-b1b5-6eebbde7a2ee",
   "metadata": {},
   "source": [
    "#### Stations with most stops"
   ]
  },
  {
   "cell_type": "code",
   "execution_count": null,
   "id": "41d5ec78-057c-4405-9ac0-b0b1afaf79c5",
   "metadata": {},
   "outputs": [],
   "source": [
    "stops_df_multiple_stops['stop_name'].value_counts().head(10)"
   ]
  },
  {
   "cell_type": "code",
   "execution_count": null,
   "id": "cea36923-aef8-4597-8056-0d2ff50c577e",
   "metadata": {},
   "outputs": [],
   "source": [
    "num_stops = stops_df_multiple_stops.groupby(['stop_name']).agg(num_stops=('stop_id', 'count')).query('num_stops > 1').sort_values('num_stops', ascending=False)\n",
    "num_stops.describe()"
   ]
  },
  {
   "cell_type": "code",
   "execution_count": null,
   "id": "42068da7-ef59-4d71-89e7-a618b5e7a79c",
   "metadata": {},
   "outputs": [],
   "source": [
    "num_stops_mean = num_stops['num_stops'].mean()\n",
    "num_stops_median = num_stops['num_stops'].median()\n",
    "\n",
    "fig, ax = plt.subplots()\n",
    "sns.histplot(x='num_stops', data=num_stops, color=sns_c[3], ax=ax, discrete=True)\n",
    "ax.axvline(x=num_stops_mean, color=sns_c[1], linestyle='--', label=f'mean = {num_stops_mean: ,.2f}')\n",
    "ax.axvline(x=num_stops_median, color=sns_c[4], linestyle='--',label=f'median = {num_stops_median}')\n",
    "ax.legend(loc='upper right')\n",
    "ax.set(title='Number of Stops per Location', xlabel='number of stops', xlim=(0, None))"
   ]
  }
 ],
 "metadata": {
  "kernelspec": {
   "display_name": "data-science",
   "language": "python",
   "name": "data-science"
  },
  "language_info": {
   "codemirror_mode": {
    "name": "ipython",
    "version": 3
   },
   "file_extension": ".py",
   "mimetype": "text/x-python",
   "name": "python",
   "nbconvert_exporter": "python",
   "pygments_lexer": "ipython3",
   "version": "3.9.5"
  }
 },
 "nbformat": 4,
 "nbformat_minor": 5
}
