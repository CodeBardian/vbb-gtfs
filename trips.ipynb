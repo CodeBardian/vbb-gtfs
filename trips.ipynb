{
 "cells": [
  {
   "cell_type": "markdown",
   "id": "800db640-9af8-4e0f-ba01-291b8109dab5",
   "metadata": {},
   "source": [
    "# Trips"
   ]
  },
  {
   "cell_type": "markdown",
   "id": "0e83aaa8-8bbc-4e36-8551-a4dc2c21d73b",
   "metadata": {},
   "source": [
    "### Downloads + Imports"
   ]
  },
  {
   "cell_type": "code",
   "execution_count": null,
   "id": "c9fad1e8-0008-412c-876b-1e7f5dfed234",
   "metadata": {},
   "outputs": [],
   "source": [
    "# https://www.vbb.de/media/download/2029\n",
    "from io import BytesIO\n",
    "from zipfile import ZipFile\n",
    "from urllib.request import urlopen\n",
    "\n",
    "resp = urlopen(\"https://www.vbb.de/media/download/2029\")\n",
    "%time zipfile = ZipFile(BytesIO(resp.read()))\n",
    "zipfile.namelist()"
   ]
  },
  {
   "cell_type": "code",
   "execution_count": null,
   "id": "de3b4dae-fe26-4c4e-bbca-364d8d1ab79f",
   "metadata": {},
   "outputs": [],
   "source": [
    "#import sys\n",
    "#!{sys.executable} -m pip install datashader\n",
    "import pandas as pd\n",
    "import numpy as np\n",
    "import mplleaflet\n",
    "import folium\n",
    "import holoviews as hv\n",
    "import holoviews.operation.datashader as hd\n",
    "hd.shade.cmap=[\"lightblue\", \"darkblue\"]\n",
    "hv.extension(\"bokeh\", \"matplotlib\") \n",
    "import datashader as ds\n",
    "import datashader.transfer_functions as tf"
   ]
  },
  {
   "cell_type": "markdown",
   "id": "f5acff0b-4b15-4e1b-881e-81a961b7b81d",
   "metadata": {},
   "source": [
    "### Setup Plotting\n"
   ]
  },
  {
   "cell_type": "code",
   "execution_count": null,
   "id": "a3754bd6-a10e-48ff-892c-4c0fb91c6065",
   "metadata": {},
   "outputs": [],
   "source": [
    "import matplotlib.pyplot as plt\n",
    "import matplotlib.ticker as mtick\n",
    "import seaborn as sns\n",
    "sns.set_style(\n",
    "    style='darkgrid', \n",
    "    rc={'axes.facecolor': '.9', 'grid.color': '.8'}\n",
    ")\n",
    "sns.set_palette(palette='deep')\n",
    "sns_c = sns.color_palette(palette='deep')\n",
    "%matplotlib inline\n",
    "from pandas.plotting import register_matplotlib_converters\n",
    "register_matplotlib_converters()\n",
    "\n",
    "plt.rcParams['figure.figsize'] = [10, 6]\n",
    "plt.rcParams['figure.dpi'] = 100"
   ]
  },
  {
   "cell_type": "markdown",
   "id": "95dd7332-cb0e-449e-89fd-5edb56591889",
   "metadata": {},
   "source": [
    "#### Read and format data\n"
   ]
  },
  {
   "cell_type": "code",
   "execution_count": null,
   "id": "cc3771e1-a4a2-4156-bcdf-286bb85bd416",
   "metadata": {},
   "outputs": [],
   "source": [
    "%time trips = pd.read_csv(zipfile.open('trips.txt'))\n",
    "trips.tail()\n",
    "trips.apply(lambda x: x.unique().size, axis=0)"
   ]
  },
  {
   "cell_type": "code",
   "execution_count": null,
   "id": "b4ae84a4-f778-4232-95eb-a2ccf505ed5c",
   "metadata": {},
   "outputs": [],
   "source": [
    "%time routes = pd.read_csv(zipfile.open('routes.txt'))\n",
    "routes.tail()\n",
    "\n",
    "trips = trips.join(routes[['route_id','route_type', 'route_short_name']].set_index('route_id'), on='route_id')\n",
    "trips.head()"
   ]
  },
  {
   "cell_type": "code",
   "execution_count": null,
   "id": "ab80adc6-aabb-4f34-a55c-d305843941b4",
   "metadata": {},
   "outputs": [],
   "source": [
    "fig, ax = plt.subplots()\n",
    "rename = {2: \"Intercity Rail Service\", 100: \"Railway Service\", 109: \"Suburban Railway\", 400: \"Urban Railway Service\", 700: \"Bus Service\", 900: \"Tram Service\", 1000: \"Water Transport Service\"}\n",
    "trips['route_type'].replace(rename, inplace=True)\n",
    "trips \\\n",
    "    .groupby(['route_type']) \\\n",
    "    .agg(n=('trip_id', 'count')) \\\n",
    "    .reset_index() \\\n",
    "    .sort_values('n', ascending=False) \\\n",
    "    .assign(share= lambda x: x['n'] / x['n'].sum()) \\\n",
    "    .pipe((sns.barplot, 'data'), \n",
    "        x='share', \n",
    "        y='route_type',\n",
    "        color=sns_c[2],\n",
    "        edgecolor=sns_c[2],\n",
    "        ax=ax\n",
    "    )\n",
    "fmt = lambda y, _: f'{y :0.0%}'\n",
    "ax.xaxis.set_major_formatter(mtick.FuncFormatter(fmt))\n",
    "ax.set(\n",
    "    title='Share of Trips per Route Type', \n",
    "    xlabel='share of trips', \n",
    "    ylabel='route type'\n",
    ");"
   ]
  },
  {
   "cell_type": "markdown",
   "id": "d1a887a4-1ab4-4c67-bf1f-a70d994b673a",
   "metadata": {},
   "source": [
    "#### Stations with most arriving trips"
   ]
  },
  {
   "cell_type": "code",
   "execution_count": null,
   "id": "8ea79ffc-e88b-439d-9ffa-821c5906f8e2",
   "metadata": {},
   "outputs": [],
   "source": [
    "trips['trip_headsign'].value_counts().head()"
   ]
  },
  {
   "cell_type": "code",
   "execution_count": null,
   "id": "86e0414a-4a72-4d86-b8ca-d34d590a3408",
   "metadata": {},
   "outputs": [],
   "source": [
    "trips_cleaned = trips.groupby(['trip_headsign', 'route_type']).size().reset_index(name=\"count\")\n",
    "trips_cleaned['max'] = trips_cleaned.groupby('trip_headsign')['count'].transform('sum')\n",
    "trips_cleaned = trips_cleaned.sort_values([\"max\",'trip_headsign',\"count\"], ascending=False).drop('max', axis=1)"
   ]
  },
  {
   "cell_type": "code",
   "execution_count": null,
   "id": "16603b4b-9125-4fac-960e-64c556fc22be",
   "metadata": {},
   "outputs": [],
   "source": [
    "fig, ax = plt.subplots(figsize=(15, 6))\n",
    "trips_cleaned.head(40).pipe(\n",
    "    (sns.barplot, 'data'), \n",
    "    y='count', \n",
    "    x='trip_headsign',\n",
    "    hue='route_type',\n",
    "    edgecolor='black',\n",
    "    dodge=True,\n",
    "    ax=ax\n",
    ")\n",
    "ax.tick_params(axis='x', labelrotation=90)\n",
    "ax.set(title='number of trips per headsign destination', xlabel='destination', ylabel='number of stops');"
   ]
  },
  {
   "cell_type": "markdown",
   "id": "0968d4a8-0443-421c-b24e-6f4d2404890c",
   "metadata": {},
   "source": [
    "#### Stations with most arriving routes"
   ]
  },
  {
   "cell_type": "code",
   "execution_count": null,
   "id": "99313040-1919-43ec-9616-f1dbd278553a",
   "metadata": {},
   "outputs": [],
   "source": [
    "trips.drop_duplicates(subset=['route_id', 'trip_headsign'])['trip_headsign'].value_counts().head()"
   ]
  },
  {
   "cell_type": "code",
   "execution_count": null,
   "id": "71697d99-5d33-4632-be3c-cda9256abb7d",
   "metadata": {},
   "outputs": [],
   "source": [
    "rtrips_cleaned = trips.drop_duplicates(subset=['route_id', 'trip_headsign'])\n",
    "rtrips_cleaned = rtrips_cleaned.groupby(['trip_headsign', 'route_type']).size().reset_index(name=\"count\")\n",
    "rtrips_cleaned['max'] = rtrips_cleaned.groupby('trip_headsign')['count'].transform('sum')\n",
    "rtrips_cleaned = rtrips_cleaned.sort_values([\"max\",'trip_headsign',\"count\"], ascending=False).drop('max', axis=1)"
   ]
  },
  {
   "cell_type": "code",
   "execution_count": null,
   "id": "2bd56f2d-7f5c-4473-9ec9-cca503f9ea85",
   "metadata": {},
   "outputs": [],
   "source": [
    "fig, ax = plt.subplots(figsize=(15, 6))\n",
    "rtrips_cleaned.head(40).pipe(\n",
    "    (sns.barplot, 'data'), \n",
    "    y='count', \n",
    "    x='trip_headsign',\n",
    "    hue='route_type',\n",
    "    edgecolor='black',\n",
    "    dodge=True,\n",
    "    ax=ax\n",
    ")\n",
    "ax.tick_params(axis='x', labelrotation=90)\n",
    "ax.set(title='number of routes per headsign destination', xlabel='destination', ylabel='number of routes');"
   ]
  }
 ],
 "metadata": {
  "kernelspec": {
   "display_name": "data-science",
   "language": "python",
   "name": "data-science"
  },
  "language_info": {
   "codemirror_mode": {
    "name": "ipython",
    "version": 3
   },
   "file_extension": ".py",
   "mimetype": "text/x-python",
   "name": "python",
   "nbconvert_exporter": "python",
   "pygments_lexer": "ipython3",
   "version": "3.9.5"
  }
 },
 "nbformat": 4,
 "nbformat_minor": 5
}
