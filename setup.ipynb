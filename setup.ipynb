{
 "cells": [
  {
   "cell_type": "markdown",
   "id": "7b6a95b8-68b3-4feb-a3d6-353ce1b2e1d3",
   "metadata": {},
   "source": [
    "# Load VBB GTFS Data"
   ]
  },
  {
   "cell_type": "code",
   "execution_count": null,
   "id": "3aa3914e-de98-473a-a68e-f6c429307a2f",
   "metadata": {},
   "outputs": [],
   "source": [
    "from io import BytesIO\n",
    "from zipfile import ZipFile\n",
    "from urllib.request import urlopen\n",
    "import certifi\n",
    "import ssl\n",
    "\n",
    "resp = urlopen(\"https://www.vbb.de/fileadmin/user_upload/VBB/Dokumente/API-Datensaetze/GTFS.zip\", context=ssl.create_default_context(cafile=certifi.where()))\n",
    "%time zipfile = ZipFile(BytesIO(resp.read()))\n",
    "zipfile.namelist()"
   ]
  },
  {
   "cell_type": "code",
   "execution_count": null,
   "id": "52d1e5c3-aa27-47b8-b1a9-48d5cc253b99",
   "metadata": {},
   "outputs": [],
   "source": [
    "import pandas as pd\n",
    "import geopandas as gpd\n",
    "import numpy as np\n",
    "import folium\n",
    "import holoviews as hv\n",
    "import holoviews.operation.datashader as hd\n",
    "hd.shade.cmap=[\"lightblue\", \"darkblue\"]\n",
    "hv.extension(\"bokeh\", \"matplotlib\") \n",
    "import datashader as ds\n",
    "import datashader.transfer_functions as tf\n",
    "from fiona.io import ZipMemoryFile\n",
    "import fiona\n",
    "import shapely"
   ]
  },
  {
   "cell_type": "markdown",
   "id": "427eed9e-0388-4e95-be70-2c1ce823afad",
   "metadata": {},
   "source": [
    "# Setup Plotting Tools"
   ]
  },
  {
   "cell_type": "code",
   "execution_count": null,
   "id": "ef713c3b-c6f2-47bb-865e-68d1e03427e5",
   "metadata": {},
   "outputs": [],
   "source": [
    "import matplotlib.pyplot as plt\n",
    "import matplotlib.ticker as mtick\n",
    "import seaborn as sns\n",
    "sns.set_style(\n",
    "    style='darkgrid', \n",
    "    rc={'axes.facecolor': '.9', 'grid.color': '.8'}\n",
    ")\n",
    "sns.set_palette(palette='deep')\n",
    "sns_c = sns.color_palette(palette='deep')\n",
    "%matplotlib inline\n",
    "from pandas.plotting import register_matplotlib_converters\n",
    "register_matplotlib_converters()\n",
    "\n",
    "plt.rcParams['figure.figsize'] = [10, 6]\n",
    "plt.rcParams['figure.dpi'] = 100"
   ]
  },
  {
   "cell_type": "code",
   "execution_count": null,
   "id": "024b7e0b-f7b5-4f81-a31b-44406c6f93d5",
   "metadata": {},
   "outputs": [],
   "source": [
    "from bokeh.plotting import figure, output_notebook, show, reset_output\n",
    "from bokeh.tile_providers import OSM, get_provider\n",
    "\n",
    "output_notebook()"
   ]
  }
 ],
 "metadata": {
  "kernelspec": {
   "display_name": "data-science",
   "language": "python",
   "name": "data-science"
  },
  "language_info": {
   "codemirror_mode": {
    "name": "ipython",
    "version": 3
   },
   "file_extension": ".py",
   "mimetype": "text/x-python",
   "name": "python",
   "nbconvert_exporter": "python",
   "pygments_lexer": "ipython3",
   "version": "3.9.5"
  }
 },
 "nbformat": 4,
 "nbformat_minor": 5
}
