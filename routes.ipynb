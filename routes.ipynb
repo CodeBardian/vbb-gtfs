{
 "cells": [
  {
   "cell_type": "markdown",
   "id": "7f8e67a6-2468-4a19-bf4a-09411afe3a34",
   "metadata": {},
   "source": [
    "# Routes"
   ]
  },
  {
   "cell_type": "markdown",
   "id": "20bb78d8-00a2-4ba5-b0c7-19954c3b9105",
   "metadata": {},
   "source": [
    "### Downloads + Imports"
   ]
  },
  {
   "cell_type": "code",
   "execution_count": null,
   "id": "3f707dac-6ff0-47b1-ac36-e99a65992509",
   "metadata": {},
   "outputs": [],
   "source": [
    "%run \"setup.ipynb\""
   ]
  },
  {
   "cell_type": "markdown",
   "id": "a610a3f0-e6d2-4385-8f95-567b745b96fd",
   "metadata": {},
   "source": [
    "#### Read and format data\n"
   ]
  },
  {
   "cell_type": "code",
   "execution_count": null,
   "id": "f24d2aae-211f-45ea-b321-4fa40fc7fc20",
   "metadata": {},
   "outputs": [],
   "source": [
    "%time routes = pd.read_csv(zipfile.open('routes.txt'))\n",
    "routes.tail()\n",
    "routes.apply(lambda x: x.unique().size, axis=0)"
   ]
  },
  {
   "cell_type": "code",
   "execution_count": null,
   "id": "7a965b69-f3e1-4594-b3d2-65b2e270b74d",
   "metadata": {},
   "outputs": [],
   "source": [
    "routes.head()"
   ]
  },
  {
   "cell_type": "markdown",
   "id": "d7ec5648-18c2-4581-8fe8-8167077cd686",
   "metadata": {},
   "source": [
    "### Routes per route type"
   ]
  },
  {
   "cell_type": "code",
   "execution_count": null,
   "id": "621748fa-90fd-4631-8470-9c9d7a726a80",
   "metadata": {},
   "outputs": [],
   "source": [
    "fig, ax = plt.subplots()\n",
    "rename = {2: \"Intercity Rail Service\", 100: \"Railway Service\", 109: \"Suburban Railway\", 400: \"Urban Railway Service\", 700: \"Bus Service\", 900: \"Tram Service\", 1000: \"Water Transport Service\"}\n",
    "routes['route_type'].replace(rename, inplace=True)\n",
    "routes \\\n",
    "    .groupby(['route_type']) \\\n",
    "    .agg(n=('route_id', 'count')) \\\n",
    "    .reset_index() \\\n",
    "    .sort_values('n', ascending=False) \\\n",
    "    .assign(share= lambda x: x['n'] / x['n'].sum()) \\\n",
    "    .pipe((sns.barplot, 'data'), \n",
    "        x='share', \n",
    "        y='route_type',\n",
    "        color=sns_c[2],\n",
    "        edgecolor=sns_c[2],\n",
    "        ax=ax\n",
    "    )\n",
    "fmt = lambda y, _: f'{y :0.0%}'\n",
    "ax.xaxis.set_major_formatter(mtick.FuncFormatter(fmt))\n",
    "ax.set(\n",
    "    title='Share of Routes per Route Type', \n",
    "    xlabel='share of routes', \n",
    "    ylabel='route type'\n",
    ");"
   ]
  }
 ],
 "metadata": {
  "kernelspec": {
   "display_name": "data-science",
   "language": "python",
   "name": "data-science"
  },
  "language_info": {
   "codemirror_mode": {
    "name": "ipython",
    "version": 3
   },
   "file_extension": ".py",
   "mimetype": "text/x-python",
   "name": "python",
   "nbconvert_exporter": "python",
   "pygments_lexer": "ipython3",
   "version": "3.9.5"
  }
 },
 "nbformat": 4,
 "nbformat_minor": 5
}
