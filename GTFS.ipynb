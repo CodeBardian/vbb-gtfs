{
 "cells": [
  {
   "cell_type": "markdown",
   "id": "157cf549",
   "metadata": {},
   "source": [
    "# VBB GTFS Data "
   ]
  },
  {
   "cell_type": "markdown",
   "id": "2730f734",
   "metadata": {},
   "source": [
    "## Stops"
   ]
  },
  {
   "cell_type": "code",
   "execution_count": null,
   "id": "8a722265",
   "metadata": {},
   "outputs": [],
   "source": [
    "#import sys\n",
    "#!{sys.executable} -m pip install mplleaflet\n",
    "import pandas as pd\n",
    "import numpy as np\n",
    "import mplleaflet\n",
    "%time stops_df = pd.read_csv('stops.txt')\n",
    "stops_df.tail()\n",
    "stops_df.info()"
   ]
  },
  {
   "cell_type": "code",
   "execution_count": null,
   "id": "950cbc16",
   "metadata": {},
   "outputs": [],
   "source": [
    "stops_df.fillna('', inplace=True)\n",
    "stops_df = stops_df.drop(['stop_code', 'stop_desc'], axis=1)\n",
    "stops_df.loc[stops_df[\"wheelchair_boarding\"] == '','wheelchair_boarding'] = 0\n",
    "stops_df_multiple_stops = stops_df.copy()\n",
    "stops_df.drop_duplicates(subset=['stop_name', 'location_type', 'wheelchair_boarding', 'platform_code'],keep='first', inplace = True)\n",
    "stops_df.head()"
   ]
  },
  {
   "cell_type": "code",
   "execution_count": null,
   "id": "d08a26d1",
   "metadata": {},
   "outputs": [],
   "source": [
    "stops_df.apply(lambda x: x.unique().size, axis=0)"
   ]
  },
  {
   "cell_type": "code",
   "execution_count": null,
   "id": "6842a6e3",
   "metadata": {},
   "outputs": [],
   "source": [
    "from bokeh.plotting import figure, output_notebook, show\n",
    "from bokeh.tile_providers import OSM, get_provider\n",
    "\n",
    "output_notebook()"
   ]
  },
  {
   "cell_type": "code",
   "execution_count": null,
   "id": "758a6cab",
   "metadata": {},
   "outputs": [],
   "source": [
    "def merc_from_arrays(lats, lons):\n",
    "    r_major = 6378137.000\n",
    "    x = r_major * np.radians(lons)\n",
    "    scale = x/lons\n",
    "    y = 180.0/np.pi * np.log(np.tan(np.pi/4.0 + lats * (np.pi/180.0)/2.0)) * scale\n",
    "    return (x, y)"
   ]
  },
  {
   "cell_type": "code",
   "execution_count": null,
   "id": "aea500be",
   "metadata": {},
   "outputs": [],
   "source": [
    "p = figure(plot_width=800, plot_height=700,title=\"Public Transport Stops of VBB\",tools=\"pan,wheel_zoom\",\n",
    "           x_range=(1215654.4978, 1721973.3732), y_range=(6533225.6816, 7296372.9720),\n",
    "           x_axis_type=\"mercator\", y_axis_type=\"mercator\",\n",
    "           tooltips=[(\"Name\", \"@stop_name\"), (\"platform\", \"@platform_code\"), (\"(Lat, Lon)\", \"(@stop_lat, @stop_lon)\")])\n",
    "p.add_tile(get_provider(OSM))\n",
    "stops_df['merc_x'], stops_df['merc_y'] = merc_from_arrays(stops_df['stop_lat'], stops_df['stop_lon'])\n",
    "p.circle(x='merc_x', y='merc_y', source=stops_df)\n",
    "show(p)"
   ]
  },
  {
   "cell_type": "code",
   "execution_count": null,
   "id": "3924b546-0cad-4589-93ba-45e5ef30202c",
   "metadata": {},
   "outputs": [],
   "source": [
    "p = figure(plot_width=800, plot_height=700,title=\"Wheelchair accesible Transport Stops of VBB\",tools=\"pan,wheel_zoom\",\n",
    "           x_range=(1215654.4978, 1721973.3732), y_range=(6533225.6816, 7296372.9720),\n",
    "           x_axis_type=\"mercator\", y_axis_type=\"mercator\",\n",
    "           tooltips=[(\"Name\", \"@stop_name\"), (\"platform\", \"@platform_code\"), (\"(Lat, Lon)\", \"(@stop_lat, @stop_lon)\")])\n",
    "p.add_tile(get_provider(OSM))\n",
    "stops_wa = stops_df.loc[stops_df['wheelchair_boarding'] == 1].copy()\n",
    "stops_wa['merc_x'], stops_wa['merc_y'] = merc_from_arrays(stops_wa['stop_lat'], stops_wa['stop_lon'])\n",
    "p.circle(x='merc_x', y='merc_y', source=stops_wa)\n",
    "show(p)"
   ]
  },
  {
   "cell_type": "markdown",
   "id": "081372ed-1e15-455d-ba46-3bbe6b7f3dc7",
   "metadata": {},
   "source": [
    "#### Setup Plotting\n"
   ]
  },
  {
   "cell_type": "code",
   "execution_count": null,
   "id": "69f48e10-0072-4f57-a54b-0d0bc2dca693",
   "metadata": {},
   "outputs": [],
   "source": [
    "import matplotlib.pyplot as plt\n",
    "import matplotlib.ticker as mtick\n",
    "import seaborn as sns\n",
    "sns.set_style(\n",
    "    style='darkgrid', \n",
    "    rc={'axes.facecolor': '.9', 'grid.color': '.8'}\n",
    ")\n",
    "sns.set_palette(palette='deep')\n",
    "sns_c = sns.color_palette(palette='deep')\n",
    "%matplotlib inline\n",
    "from pandas.plotting import register_matplotlib_converters\n",
    "register_matplotlib_converters()\n",
    "\n",
    "plt.rcParams['figure.figsize'] = [10, 6]\n",
    "plt.rcParams['figure.dpi'] = 100"
   ]
  },
  {
   "cell_type": "markdown",
   "id": "772e1f75-c9c3-4ac5-92aa-3ae85538ba95",
   "metadata": {},
   "source": [
    "#### Stations with most stops"
   ]
  },
  {
   "cell_type": "code",
   "execution_count": null,
   "id": "da088388-69e0-4008-8e44-94ee915e5249",
   "metadata": {},
   "outputs": [],
   "source": [
    "stops_df_multiple_stops['stop_name'].value_counts().head(10)"
   ]
  },
  {
   "cell_type": "code",
   "execution_count": null,
   "id": "3c17777c-f1b3-455c-a225-d0b304fbc5f9",
   "metadata": {},
   "outputs": [],
   "source": [
    "num_stops = stops_df_multiple_stops.groupby(['stop_name']).agg(num_stops=('stop_id', 'count')).query('num_stops > 1').sort_values('num_stops', ascending=False)\n",
    "num_stops.describe()"
   ]
  },
  {
   "cell_type": "code",
   "execution_count": null,
   "id": "c552f692-125a-4cf1-ba62-6a9ac05f3c05",
   "metadata": {},
   "outputs": [],
   "source": [
    "num_stops_mean = num_stops['num_stops'].mean()\n",
    "num_stops_median = num_stops['num_stops'].median()\n",
    "\n",
    "fig, ax = plt.subplots()\n",
    "sns.histplot(x='num_stops', data=num_stops, color=sns_c[3], ax=ax, discrete=True)\n",
    "ax.axvline(x=num_stops_mean, color=sns_c[1], linestyle='--', label=f'mean = {num_stops_mean: ,.2f}')\n",
    "ax.axvline(x=num_stops_median, color=sns_c[4], linestyle='--',label=f'median = {num_stops_median}')\n",
    "ax.legend(loc='upper right')\n",
    "ax.set(title='Number of Stops per Location', xlabel='number of stops', xlim=(0, None))"
   ]
  },
  {
   "cell_type": "markdown",
   "id": "3d2ceb07-4864-4e7b-a701-b4d392a5f320",
   "metadata": {},
   "source": [
    "## Shapes"
   ]
  },
  {
   "cell_type": "code",
   "execution_count": null,
   "id": "374c9704-c175-4071-9c55-d2888ba6ce98",
   "metadata": {},
   "outputs": [],
   "source": [
    "%time shapes = pd.read_csv('shapes.txt')\n",
    "shapes.tail()\n",
    "shapes.apply(lambda x: x.unique().size, axis=0)"
   ]
  },
  {
   "cell_type": "code",
   "execution_count": null,
   "id": "e7962751-d90d-4b51-8657-1103fd48db5f",
   "metadata": {},
   "outputs": [],
   "source": [
    "shapes.head()"
   ]
  },
  {
   "cell_type": "code",
   "execution_count": null,
   "id": "cfee2763-aa30-4fd9-b905-fb7ef41dcae9",
   "metadata": {},
   "outputs": [],
   "source": [
    "from bokeh.models import ColumnDataSource\n",
    "    \n",
    "p = figure(plot_width=800, plot_height=700,title=\"Public Transport Lines of VBB\",tools=\"pan,wheel_zoom\",\n",
    "           x_range=(1215654.4978, 1721973.3732), y_range=(6533225.6816, 7296372.9720),\n",
    "           x_axis_type=\"mercator\", y_axis_type=\"mercator\",\n",
    "           output_backend=\"webgl\")\n",
    "p.add_tile(get_provider(OSM))\n",
    "shapes['merc_x'], shapes['merc_y'] = merc_from_arrays(shapes['shape_pt_lat'], shapes['shape_pt_lon'])\n",
    "merc_x = shapes.groupby(['shape_id'])['merc_x'].apply(list)\n",
    "merc_y = shapes.groupby(['shape_id'])['merc_y'].apply(list)\n",
    "p.multi_line(xs=merc_x.values.tolist(), ys=merc_y.values.tolist(), color='red', line_width=1)\n",
    "show(p)"
   ]
  },
  {
   "cell_type": "markdown",
   "id": "b0d23fe2-1af2-4d01-9f4d-a845d920c4d5",
   "metadata": {},
   "source": [
    "## Routes"
   ]
  },
  {
   "cell_type": "code",
   "execution_count": null,
   "id": "30bc2809-36c4-443f-92fb-e4161bb8fff4",
   "metadata": {},
   "outputs": [],
   "source": [
    "%time routes = pd.read_csv('routes.txt')\n",
    "routes.tail()\n",
    "routes.apply(lambda x: x.unique().size, axis=0)"
   ]
  },
  {
   "cell_type": "code",
   "execution_count": null,
   "id": "b9bbf014-bc82-4c8f-a121-60aaca600067",
   "metadata": {},
   "outputs": [],
   "source": [
    "routes.head()"
   ]
  },
  {
   "cell_type": "code",
   "execution_count": null,
   "id": "7d8438c0-98e1-4e50-acf9-0c32ec6d09fd",
   "metadata": {},
   "outputs": [],
   "source": [
    "fig, ax = plt.subplots()\n",
    "rename = {2: \"Intercity Rail Service\", 100: \"Railway Service\", 109: \"Suburban Railway\", 400: \"Urban Railway Service\", 700: \"Bus Service\", 900: \"Tram Service\", 1000: \"Water Transport Service\"}\n",
    "routes['route_type'].replace(rename, inplace=True)\n",
    "routes \\\n",
    "    .groupby(['route_type']) \\\n",
    "    .agg(n=('route_id', 'count')) \\\n",
    "    .reset_index() \\\n",
    "    .sort_values('n', ascending=False) \\\n",
    "    .assign(share= lambda x: x['n'] / x['n'].sum()) \\\n",
    "    .pipe((sns.barplot, 'data'), \n",
    "        x='share', \n",
    "        y='route_type',\n",
    "        color=sns_c[2],\n",
    "        edgecolor=sns_c[2],\n",
    "        ax=ax\n",
    "    )\n",
    "fmt = lambda y, _: f'{y :0.0%}'\n",
    "ax.xaxis.set_major_formatter(mtick.FuncFormatter(fmt))\n",
    "ax.set(\n",
    "    title='Share of Routes per Route Type', \n",
    "    xlabel='share of routes', \n",
    "    ylabel='route type'\n",
    ");"
   ]
  },
  {
   "cell_type": "markdown",
   "id": "5b32e3c4-c28a-4417-b716-684dcc542d8b",
   "metadata": {},
   "source": [
    "## Trips"
   ]
  },
  {
   "cell_type": "code",
   "execution_count": null,
   "id": "6dfa290e-6f73-4bda-bfc0-d11b31b9a649",
   "metadata": {},
   "outputs": [],
   "source": [
    "%time trips = pd.read_csv('trips.txt')\n",
    "trips.tail()\n",
    "trips.apply(lambda x: x.unique().size, axis=0)"
   ]
  },
  {
   "cell_type": "code",
   "execution_count": null,
   "id": "72571c5e-c30e-43e6-b56f-89dbfaec68b1",
   "metadata": {},
   "outputs": [],
   "source": [
    "trips = trips.join(routes[['route_id','route_type', 'route_short_name']].set_index('route_id'), on='route_id')\n",
    "trips.head()"
   ]
  },
  {
   "cell_type": "code",
   "execution_count": null,
   "id": "d0e039bc-bcf1-4f28-a308-531a2d06450b",
   "metadata": {},
   "outputs": [],
   "source": [
    "fig, ax = plt.subplots()\n",
    "trips \\\n",
    "    .groupby(['route_type']) \\\n",
    "    .agg(n=('trip_id', 'count')) \\\n",
    "    .reset_index() \\\n",
    "    .sort_values('n', ascending=False) \\\n",
    "    .assign(share= lambda x: x['n'] / x['n'].sum()) \\\n",
    "    .pipe((sns.barplot, 'data'), \n",
    "        x='share', \n",
    "        y='route_type',\n",
    "        color=sns_c[2],\n",
    "        edgecolor=sns_c[2],\n",
    "        ax=ax\n",
    "    )\n",
    "fmt = lambda y, _: f'{y :0.0%}'\n",
    "ax.xaxis.set_major_formatter(mtick.FuncFormatter(fmt))\n",
    "ax.set(\n",
    "    title='Share of Trips per Route Type', \n",
    "    xlabel='share of trips', \n",
    "    ylabel='route type'\n",
    ");"
   ]
  },
  {
   "cell_type": "markdown",
   "id": "1195d343-c508-4907-b06a-008b49239902",
   "metadata": {},
   "source": [
    "#### Stations with most arriving trips"
   ]
  },
  {
   "cell_type": "code",
   "execution_count": null,
   "id": "eef4402f-8349-4db3-ac19-cff7fe0f8af1",
   "metadata": {},
   "outputs": [],
   "source": [
    "trips['trip_headsign'].value_counts().head()"
   ]
  },
  {
   "cell_type": "code",
   "execution_count": null,
   "id": "fbea3774-dc98-414e-9d0a-8f2c8efa5990",
   "metadata": {},
   "outputs": [],
   "source": [
    "trips_cleaned = trips.groupby(['trip_headsign', 'route_type']).size().reset_index(name=\"count\")\n",
    "trips_cleaned['max'] = trips_cleaned.groupby('trip_headsign')['count'].transform('sum')\n",
    "trips_cleaned = trips_cleaned.sort_values([\"max\",'trip_headsign',\"count\"], ascending=False).drop('max', axis=1)"
   ]
  },
  {
   "cell_type": "code",
   "execution_count": null,
   "id": "38ce21e8-954e-4b43-a615-a09f2480d2af",
   "metadata": {},
   "outputs": [],
   "source": [
    "fig, ax = plt.subplots(figsize=(15, 6))\n",
    "trips_cleaned.head(40).pipe(\n",
    "    (sns.barplot, 'data'), \n",
    "    y='count', \n",
    "    x='trip_headsign',\n",
    "    hue='route_type',\n",
    "    edgecolor='black',\n",
    "    dodge=True,\n",
    "    ax=ax\n",
    ")\n",
    "ax.tick_params(axis='x', labelrotation=90)\n",
    "ax.set(title='number of trips per headsign destination', xlabel='destination', ylabel='number of stops');"
   ]
  },
  {
   "cell_type": "markdown",
   "id": "364d9ba0-62c8-49f9-b701-c12a2c65dfe2",
   "metadata": {},
   "source": [
    "#### Stations with most arriving routes"
   ]
  },
  {
   "cell_type": "code",
   "execution_count": null,
   "id": "d7dd4f04-97d8-4d32-8c3f-9d6068d0dc2b",
   "metadata": {},
   "outputs": [],
   "source": [
    "trips.drop_duplicates(subset=['route_id', 'trip_headsign'])['trip_headsign'].value_counts().head()"
   ]
  },
  {
   "cell_type": "code",
   "execution_count": null,
   "id": "0750410b-c5dd-4e9f-a6b8-6b7b645b0ad0",
   "metadata": {},
   "outputs": [],
   "source": [
    "rtrips_cleaned = trips.drop_duplicates(subset=['route_id', 'trip_headsign'])\n",
    "rtrips_cleaned = rtrips_cleaned.groupby(['trip_headsign', 'route_type']).size().reset_index(name=\"count\")\n",
    "rtrips_cleaned['max'] = rtrips_cleaned.groupby('trip_headsign')['count'].transform('sum')\n",
    "rtrips_cleaned = rtrips_cleaned.sort_values([\"max\",'trip_headsign',\"count\"], ascending=False).drop('max', axis=1)"
   ]
  },
  {
   "cell_type": "code",
   "execution_count": null,
   "id": "f80de055-b1ff-4099-81d4-56368cd15729",
   "metadata": {},
   "outputs": [],
   "source": [
    "fig, ax = plt.subplots(figsize=(15, 6))\n",
    "rtrips_cleaned.head(40).pipe(\n",
    "    (sns.barplot, 'data'), \n",
    "    y='count', \n",
    "    x='trip_headsign',\n",
    "    hue='route_type',\n",
    "    edgecolor='black',\n",
    "    dodge=True,\n",
    "    ax=ax\n",
    ")\n",
    "ax.tick_params(axis='x', labelrotation=90)\n",
    "ax.set(title='number of routes per headsign destination', xlabel='destination', ylabel='number of routes');"
   ]
  }
 ],
 "metadata": {
  "kernelspec": {
   "display_name": "data-science",
   "language": "python",
   "name": "data-science"
  },
  "language_info": {
   "codemirror_mode": {
    "name": "ipython",
    "version": 3
   },
   "file_extension": ".py",
   "mimetype": "text/x-python",
   "name": "python",
   "nbconvert_exporter": "python",
   "pygments_lexer": "ipython3",
   "version": "3.9.5"
  }
 },
 "nbformat": 4,
 "nbformat_minor": 5
}
